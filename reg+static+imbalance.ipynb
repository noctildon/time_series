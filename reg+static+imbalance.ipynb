{
 "cells": [
  {
   "cell_type": "code",
   "execution_count": 9,
   "id": "0afac16f",
   "metadata": {},
   "outputs": [],
   "source": [
    "import torch\n",
    "import torch.nn as nn\n",
    "import numpy as np\n",
    "import matplotlib.pyplot as plt\n",
    "from collections import Counter"
   ]
  },
  {
   "cell_type": "code",
   "execution_count": null,
   "id": "a6a31c5c",
   "metadata": {},
   "outputs": [],
   "source": [
    "# hyperparameters\n",
    "n_samples = 1000\n",
    "seq_len = 20\n",
    "dynamic_feat_dim = 2\n",
    "static_feat_dim = 1\n",
    "num_classes = 3\n",
    "\n",
    "# Simulated data\n",
    "X_dynamic = torch.randn(n_samples, seq_len, dynamic_feat_dim)\n",
    "X_static = torch.randn(n_samples, static_feat_dim)\n",
    "y = torch.randint(0, num_classes, (n_samples,))  # classification labels\n",
    "\n",
    "# Train/test split\n",
    "train_size = int(0.8 * n_samples)\n",
    "X_dyn_train, X_dyn_test = X_dynamic[:train_size], X_dynamic[train_size:]\n",
    "X_sta_train, X_sta_test = X_static[:train_size], X_static[train_size:]\n",
    "y_train, y_test = y[:train_size], y[train_size:]"
   ]
  },
  {
   "cell_type": "code",
   "execution_count": 15,
   "id": "d2d7dcfd",
   "metadata": {},
   "outputs": [
    {
     "data": {
      "text/plain": [
       "(torch.Size([1000, 20, 2]), torch.Size([1000, 1]))"
      ]
     },
     "execution_count": 15,
     "metadata": {},
     "output_type": "execute_result"
    }
   ],
   "source": [
    "X_dynamic.shape, X_static.shape"
   ]
  },
  {
   "cell_type": "code",
   "execution_count": 10,
   "id": "0f529a22",
   "metadata": {},
   "outputs": [
    {
     "name": "stdout",
     "output_type": "stream",
     "text": [
      "Counter({0: 276, 1: 266, 2: 258})\n"
     ]
    }
   ],
   "source": [
    "counts = Counter(y_train.tolist())\n",
    "print(counts)\n",
    "\n",
    "# Step 2: Create weights (inverse frequency)\n",
    "total = sum(counts.values())\n",
    "weights = [total / counts[i] for i in range(num_classes)]\n",
    "class_weights = torch.tensor(weights, dtype=torch.float)"
   ]
  },
  {
   "cell_type": "code",
   "execution_count": 11,
   "id": "4d8b4fcf",
   "metadata": {},
   "outputs": [
    {
     "data": {
      "text/plain": [
       "tensor([2.8986, 3.0075, 3.1008])"
      ]
     },
     "execution_count": 11,
     "metadata": {},
     "output_type": "execute_result"
    }
   ],
   "source": [
    "class_weights"
   ]
  },
  {
   "cell_type": "code",
   "execution_count": null,
   "id": "b00331b4",
   "metadata": {},
   "outputs": [
    {
     "name": "stdout",
     "output_type": "stream",
     "text": [
      "Epoch 10, Loss: 1.0967, Train Acc: 0.3663\n",
      "Epoch 20, Loss: 1.0940, Train Acc: 0.3775\n",
      "Epoch 30, Loss: 1.0909, Train Acc: 0.3750\n",
      "Epoch 40, Loss: 1.0872, Train Acc: 0.3887\n",
      "Epoch 50, Loss: 1.0831, Train Acc: 0.4087\n",
      "Epoch 60, Loss: 1.0772, Train Acc: 0.4263\n",
      "Epoch 70, Loss: 1.0708, Train Acc: 0.4162\n",
      "Epoch 80, Loss: 1.0600, Train Acc: 0.4437\n",
      "Epoch 90, Loss: 1.0451, Train Acc: 0.4625\n",
      "Epoch 100, Loss: 1.0277, Train Acc: 0.4600\n",
      "Epoch 110, Loss: 1.0081, Train Acc: 0.4888\n",
      "Epoch 120, Loss: 0.9886, Train Acc: 0.5150\n",
      "Epoch 130, Loss: 0.9586, Train Acc: 0.5412\n",
      "Epoch 140, Loss: 0.9332, Train Acc: 0.5537\n",
      "Epoch 150, Loss: 0.9247, Train Acc: 0.5562\n",
      "Epoch 160, Loss: 0.8914, Train Acc: 0.5850\n",
      "Epoch 170, Loss: 0.8540, Train Acc: 0.6037\n",
      "Epoch 180, Loss: 0.8272, Train Acc: 0.6388\n",
      "Epoch 190, Loss: 0.7979, Train Acc: 0.6612\n",
      "Epoch 200, Loss: 0.7755, Train Acc: 0.6575\n"
     ]
    }
   ],
   "source": [
    "# Model for classification\n",
    "class LSTMWithStaticClassifier(nn.Module):\n",
    "    def __init__(self, input_size, static_size, hidden_size, num_layers, num_classes):\n",
    "        super().__init__()\n",
    "        self.lstm = nn.LSTM(input_size=input_size, hidden_size=hidden_size, num_layers=num_layers, batch_first=True)\n",
    "        self.fc = nn.Linear(hidden_size + static_size, num_classes)\n",
    "\n",
    "    def forward(self, x_dyn, x_static):\n",
    "        lstm_out, _ = self.lstm(x_dyn)  # [batch, seq_len, hidden]\n",
    "        last_hidden = lstm_out[:, -1, :]  # [batch, hidden]\n",
    "        combined = torch.cat([last_hidden, x_static], dim=1)\n",
    "        logits = self.fc(combined)  # [batch, num_classes]\n",
    "        return logits\n",
    "\n",
    "model = LSTMWithStaticClassifier(\n",
    "    input_size=dynamic_feat_dim,\n",
    "    static_size=static_feat_dim,\n",
    "    hidden_size=64,\n",
    "    num_layers=1,\n",
    "    num_classes=num_classes\n",
    ")\n",
    "\n",
    "criterion = nn.CrossEntropyLoss(weight=class_weights)\n",
    "optimizer = torch.optim.Adam(model.parameters(), lr=0.001)\n",
    "\n",
    "# Training loop\n",
    "for epoch in range(200):\n",
    "    model.train()\n",
    "    logits = model(X_dyn_train, X_sta_train)\n",
    "    loss = criterion(logits, y_train)\n",
    "    optimizer.zero_grad()\n",
    "    loss.backward()\n",
    "    optimizer.step()\n",
    "    if (epoch + 1) % 10 == 0:\n",
    "        pred_labels = logits.argmax(dim=1)\n",
    "        acc = (pred_labels == y_train).float().mean()\n",
    "        print(f\"Epoch {epoch+1}, Loss: {loss.item():.4f}, Train Acc: {acc:.4f}\")"
   ]
  },
  {
   "cell_type": "code",
   "execution_count": 13,
   "id": "ac4f1406",
   "metadata": {},
   "outputs": [
    {
     "name": "stdout",
     "output_type": "stream",
     "text": [
      "Test Accuracy: 0.3700\n"
     ]
    }
   ],
   "source": [
    "# Evaluation\n",
    "model.eval()\n",
    "with torch.no_grad():\n",
    "    test_logits = model(X_dyn_test, X_sta_test)\n",
    "    test_preds = test_logits.argmax(dim=1)\n",
    "    test_acc = (test_preds == y_test).float().mean()\n",
    "    print(f\"Test Accuracy: {test_acc:.4f}\")"
   ]
  },
  {
   "cell_type": "code",
   "execution_count": null,
   "id": "5af8c49e",
   "metadata": {},
   "outputs": [],
   "source": []
  }
 ],
 "metadata": {
  "kernelspec": {
   "display_name": ".venv",
   "language": "python",
   "name": "python3"
  },
  "language_info": {
   "codemirror_mode": {
    "name": "ipython",
    "version": 3
   },
   "file_extension": ".py",
   "mimetype": "text/x-python",
   "name": "python",
   "nbconvert_exporter": "python",
   "pygments_lexer": "ipython3",
   "version": "3.11.12"
  }
 },
 "nbformat": 4,
 "nbformat_minor": 5
}
