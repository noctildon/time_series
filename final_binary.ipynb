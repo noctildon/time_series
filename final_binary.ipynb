{
 "cells": [
  {
   "cell_type": "code",
   "execution_count": 1,
   "id": "0adabef6",
   "metadata": {},
   "outputs": [],
   "source": [
    "from collections import Counter\n",
    "import random\n",
    "import numpy as np\n",
    "import torch\n",
    "import torch.nn as nn\n",
    "from torch.nn.utils.rnn import pad_sequence, pack_padded_sequence, pad_packed_sequence\n",
    "from torch.utils.data import Dataset, DataLoader\n",
    "from sklearn.metrics import roc_auc_score, accuracy_score, confusion_matrix, classification_report, \\\n",
    "precision_score, recall_score, f1_score, average_precision_score, precision_recall_curve"
   ]
  },
  {
   "cell_type": "code",
   "execution_count": 2,
   "id": "830469f4",
   "metadata": {},
   "outputs": [
    {
     "name": "stdout",
     "output_type": "stream",
     "text": [
      "Using device: cpu\n"
     ]
    }
   ],
   "source": [
    "device = torch.device(\"cuda\" if torch.cuda.is_available() else \"cpu\")\n",
    "print(\"Using device:\", device)\n",
    "\n",
    "if device.type == \"cuda\":\n",
    "    torch.cuda.empty_cache()"
   ]
  },
  {
   "cell_type": "markdown",
   "id": "9a908c76",
   "metadata": {},
   "source": [
    "# Data"
   ]
  },
  {
   "cell_type": "markdown",
   "id": "2a8abb0e",
   "metadata": {},
   "source": [
    "fake data"
   ]
  },
  {
   "cell_type": "code",
   "execution_count": null,
   "id": "77d23e29",
   "metadata": {},
   "outputs": [],
   "source": [
    "PAD_VALUE = -100 # padding value for labels (see collate_fn)\n",
    "BATCH_SIZE = 16\n",
    "\n",
    "class SeqLabelingDataset(Dataset):\n",
    "    def __init__(self, n_samples=100, min_len=5, max_len=15, dyn_feat_dim=4, static_feat_dim=2):\n",
    "        self.samples = []\n",
    "        for _ in range(n_samples):\n",
    "            seq_len = random.randint(min_len, max_len)\n",
    "            dyn_feat = torch.randn(seq_len, dyn_feat_dim)\n",
    "            static_feat = torch.randn(static_feat_dim)\n",
    "            labels = torch.randint(0, 2, (seq_len,))\n",
    "            self.samples.append((dyn_feat, static_feat, labels))\n",
    "\n",
    "    def __len__(self):\n",
    "        return len(self.samples)\n",
    "\n",
    "    def __getitem__(self, idx):\n",
    "        return self.samples[idx]\n",
    "\n",
    "def collate_fn(batch):\n",
    "    # pad sequences such that they have the same length\n",
    "    dyn_seqs, stat_feats, label_seqs = zip(*batch)\n",
    "    lengths = torch.tensor([len(seq) for seq in dyn_seqs])\n",
    "\n",
    "    padded_dyn = pad_sequence(dyn_seqs, batch_first=True)  # [B, T, F]\n",
    "    padded_labels = pad_sequence(label_seqs, batch_first=True, padding_value=PAD_VALUE)  # [B, T]\n",
    "    static_feats = torch.stack(stat_feats)  # [B, S]\n",
    "    return padded_dyn, static_feats, lengths, padded_labels"
   ]
  },
  {
   "cell_type": "markdown",
   "id": "e6226a70",
   "metadata": {},
   "source": [
    "# Model"
   ]
  },
  {
   "cell_type": "code",
   "execution_count": 4,
   "id": "4730e7e4",
   "metadata": {},
   "outputs": [],
   "source": [
    "class LSTMTagger(nn.Module):\n",
    "    def __init__(self, dyn_feat_dim, static_feat_dim, hidden_dim):\n",
    "        super().__init__()\n",
    "        self.lstm = nn.LSTM(dyn_feat_dim, hidden_dim, batch_first=True)\n",
    "        self.classifier = nn.Linear(hidden_dim + static_feat_dim, 1) # binary classification\n",
    "\n",
    "    def forward(self, x_dyn, x_static, lengths):\n",
    "        packed_input = pack_padded_sequence(x_dyn, lengths.cpu(), batch_first=True, enforce_sorted=False)\n",
    "        packed_output, _ = self.lstm(packed_input)\n",
    "        lstm_out, _ = pad_packed_sequence(packed_output, batch_first=True)  # [B, T, H]\n",
    "\n",
    "        # Expand static features to [B, T, S]\n",
    "        B, T, _ = lstm_out.shape\n",
    "        x_static_exp = x_static.unsqueeze(1).expand(B, T, -1)\n",
    "\n",
    "        combined = torch.cat([lstm_out, x_static_exp], dim=-1)  # [B, T, H+S]\n",
    "        logits = self.classifier(combined).squeeze(-1)  # shape: [B, T]\n",
    "        return logits\n",
    "\n",
    "def compute_pos_weight(dataset):\n",
    "    # for binary class only\n",
    "    counts = Counter()\n",
    "    for _, _, labels in dataset:\n",
    "        labels = labels[labels != PAD_VALUE]\n",
    "        counts.update(labels.tolist())\n",
    "\n",
    "    pos, neg = counts[1], counts[0]\n",
    "    pos_weight = neg / pos if pos > 0 else 1.0  # avoid div-by-zero\n",
    "    return torch.tensor([pos_weight], dtype=torch.float32)\n",
    "\n",
    "def evaluate(model, dataloader):\n",
    "    model.eval()\n",
    "    all_probs, all_preds, all_labels = [], [], []\n",
    "    with torch.no_grad():\n",
    "        for x_dyn, x_static, lengths, labels in dataloader:\n",
    "            x_dyn = x_dyn.to(device)\n",
    "            x_static = x_static.to(device)\n",
    "            lengths = lengths.to(device)\n",
    "            labels = labels.to(device)\n",
    "\n",
    "            logits = model(x_dyn, x_static, lengths)  # [B, T]\n",
    "            probs = torch.sigmoid(logits)             # [B, T]\n",
    "            preds = (probs > 0.5).long()\n",
    "\n",
    "            # Apply mask\n",
    "            mask = labels != PAD_VALUE                # [B, T]\n",
    "            masked_labels = labels[mask]\n",
    "            masked_preds = preds[mask]\n",
    "            masked_probs = probs[mask]\n",
    "\n",
    "            all_labels.extend(masked_labels.cpu().numpy())\n",
    "            all_preds.extend(masked_preds.cpu().numpy())\n",
    "            all_probs.extend(masked_probs.cpu().numpy())\n",
    "\n",
    "    metrics = {}\n",
    "    metrics['acc'] = accuracy_score(all_labels, all_preds)\n",
    "    metrics['precision'] = precision_score(all_labels, all_preds, zero_division=0)\n",
    "    metrics['recall'] = recall_score(all_labels, all_preds, zero_division=0)\n",
    "    metrics['f1'] = f1_score(all_labels, all_preds, zero_division=0)\n",
    "\n",
    "    try:\n",
    "        metrics['auc'] = roc_auc_score(all_labels, all_probs)\n",
    "    except ValueError:\n",
    "        metrics['auc'] = None\n",
    "\n",
    "    try:\n",
    "        metrics['aucpr'] = average_precision_score(all_labels, all_probs)\n",
    "    except ValueError:\n",
    "        metrics['aucpr'] = None\n",
    "\n",
    "    cm = confusion_matrix(all_labels, all_preds)\n",
    "    report = classification_report(all_labels, all_preds, digits=4)\n",
    "    return metrics, cm, report, all_probs, all_preds, all_labels"
   ]
  },
  {
   "cell_type": "code",
   "execution_count": null,
   "id": "614fd538",
   "metadata": {},
   "outputs": [],
   "source": [
    "dyn_feat_dim = 4       # fixed by data\n",
    "static_feat_dim = 2    # fixed by data\n",
    "epochs = 5\n",
    "\n",
    "dataset = SeqLabelingDataset()\n",
    "dataloader = DataLoader(dataset, batch_size=BATCH_SIZE, shuffle=True, collate_fn=collate_fn)"
   ]
  },
  {
   "cell_type": "code",
   "execution_count": 6,
   "id": "4aa6a73e",
   "metadata": {},
   "outputs": [
    {
     "data": {
      "text/plain": [
       "(torch.Size([13, 4]), torch.Size([2]), torch.Size([13]))"
      ]
     },
     "execution_count": 6,
     "metadata": {},
     "output_type": "execute_result"
    }
   ],
   "source": [
    "d = dataset.samples[3]\n",
    "d[0].shape, d[1].shape, d[2].shape"
   ]
  },
  {
   "cell_type": "markdown",
   "id": "a03f6679",
   "metadata": {},
   "source": [
    "# Training"
   ]
  },
  {
   "cell_type": "code",
   "execution_count": 7,
   "id": "c5222c22",
   "metadata": {},
   "outputs": [],
   "source": [
    "pos_weight = compute_pos_weight(dataset).to(device)\n",
    "criterion = nn.BCEWithLogitsLoss(reduction=\"none\", pos_weight=pos_weight) # mask manually in training loop\n",
    "\n",
    "def training_loop(hidden_dim, learning_rate, verbose=True):\n",
    "    model = LSTMTagger(dyn_feat_dim, static_feat_dim, hidden_dim).to(device)\n",
    "    optimizer = torch.optim.Adam(model.parameters(), lr=learning_rate)\n",
    "    for epoch in range(epochs):\n",
    "        model.train()\n",
    "        total_loss = 0\n",
    "        all_preds, all_probs, all_labels = [], [], []\n",
    "        for x_dyn, x_static, lengths, labels in dataloader:\n",
    "            x_dyn = x_dyn.to(device)\n",
    "            x_static = x_static.to(device)\n",
    "            lengths = lengths.to(device)\n",
    "            labels = labels.to(device)\n",
    "\n",
    "            # mask loss\n",
    "            mask = labels != PAD_VALUE               # [B, T]\n",
    "            logits = model(x_dyn, x_static, lengths) # [B, T]\n",
    "            probs = torch.sigmoid(logits)\n",
    "            preds = (probs > 0.5).long()\n",
    "\n",
    "            loss = criterion(logits, labels.float()) # [B, T]\n",
    "            loss = loss[mask].mean()\n",
    "            total_loss += loss.item()\n",
    "\n",
    "            all_labels.extend(labels[mask].detach().cpu().numpy())\n",
    "            all_preds.extend(preds[mask].detach().cpu().numpy())\n",
    "            all_probs.extend(probs[mask].detach().cpu().numpy())\n",
    "\n",
    "            optimizer.zero_grad()\n",
    "            loss.backward()\n",
    "            optimizer.step()\n",
    "\n",
    "        train_loss = total_loss / len(dataloader)\n",
    "        train_acc = accuracy_score(all_labels, all_preds)\n",
    "        train_auc = roc_auc_score(all_labels, all_probs)\n",
    "        valid_metrics, _, _, _, _, _ = evaluate(model, dataloader) # TODO: change to valid set\n",
    "\n",
    "        train_mesg = f\"Train Loss: {train_loss:.4f} | Train Accuracy: {train_acc:.4f} | Train AUC: {train_auc:.4f}\"\n",
    "        test_mesg = f\"Valid Acc: {valid_metrics['acc']:.4f} | Valid AUC: {valid_metrics['auc']:.4f}\"\n",
    "        if verbose:\n",
    "            print(f\"Epoch {epoch+1} | {train_mesg} | {test_mesg}\")\n",
    "\n",
    "    return model"
   ]
  },
  {
   "cell_type": "code",
   "execution_count": 8,
   "id": "2ff8579f",
   "metadata": {},
   "outputs": [
    {
     "name": "stdout",
     "output_type": "stream",
     "text": [
      "Epoch 1 | Train Loss: 0.6948 | Train Accuracy: 0.4897 | Train AUC: 0.4982 | Valid Acc: 0.4838 | Valid AUC: 0.5041\n",
      "Epoch 2 | Train Loss: 0.6964 | Train Accuracy: 0.4877 | Train AUC: 0.5044 | Valid Acc: 0.4858 | Valid AUC: 0.5078\n",
      "Epoch 3 | Train Loss: 0.6943 | Train Accuracy: 0.4936 | Train AUC: 0.5042 | Valid Acc: 0.4995 | Valid AUC: 0.5112\n",
      "Epoch 4 | Train Loss: 0.6925 | Train Accuracy: 0.4809 | Train AUC: 0.5115 | Valid Acc: 0.4848 | Valid AUC: 0.5153\n",
      "Epoch 5 | Train Loss: 0.6916 | Train Accuracy: 0.4887 | Train AUC: 0.5150 | Valid Acc: 0.4887 | Valid AUC: 0.5189\n"
     ]
    }
   ],
   "source": [
    "trained_model = training_loop(hidden_dim=32, learning_rate=0.001)"
   ]
  },
  {
   "cell_type": "code",
   "execution_count": 9,
   "id": "85998148",
   "metadata": {},
   "outputs": [
    {
     "data": {
      "text/plain": [
       "{'acc': 0.4887144259077527,\n",
       " 'precision': 0.48655256723716384,\n",
       " 'recall': 0.39019607843137255,\n",
       " 'f1': 0.43307943416757344,\n",
       " 'auc': 0.5189086636619284,\n",
       " 'aucpr': 0.5047250808994895}"
      ]
     },
     "execution_count": 9,
     "metadata": {},
     "output_type": "execute_result"
    }
   ],
   "source": [
    "metrics, cn, report, all_probs, all_preds, all_labels = evaluate(trained_model, dataloader)\n",
    "metrics"
   ]
  },
  {
   "cell_type": "markdown",
   "id": "3570e4c4",
   "metadata": {},
   "source": [
    "# Hyperparameter tuning\n",
    "## Optuna"
   ]
  },
  {
   "cell_type": "code",
   "execution_count": 13,
   "id": "c7444d63",
   "metadata": {},
   "outputs": [],
   "source": [
    "import optuna"
   ]
  },
  {
   "cell_type": "code",
   "execution_count": 14,
   "id": "c4d5b019",
   "metadata": {},
   "outputs": [
    {
     "name": "stderr",
     "output_type": "stream",
     "text": [
      "[I 2025-07-05 17:54:30,948] A new study created in memory with name: no-name-1157a158-ea16-42ec-9784-820d78461e33\n",
      "[I 2025-07-05 17:54:31,330] Trial 0 finished with value: 0.5242651874109172 and parameters: {'hidden_dim': 32, 'lr': 0.0013885605438395297}. Best is trial 0 with value: 0.5242651874109172.\n",
      "[I 2025-07-05 17:54:31,925] Trial 1 finished with value: 0.5032705420085519 and parameters: {'hidden_dim': 128, 'lr': 0.00014184539233762306}. Best is trial 0 with value: 0.5242651874109172.\n",
      "[I 2025-07-05 17:54:32,441] Trial 2 finished with value: 0.5009283870719211 and parameters: {'hidden_dim': 32, 'lr': 0.00017293784865628656}. Best is trial 0 with value: 0.5242651874109172.\n",
      "[I 2025-07-05 17:54:33,160] Trial 3 finished with value: 0.5697368927924805 and parameters: {'hidden_dim': 128, 'lr': 0.003168723832106195}. Best is trial 3 with value: 0.5697368927924805.\n",
      "[I 2025-07-05 17:54:33,709] Trial 4 finished with value: 0.5126834623829886 and parameters: {'hidden_dim': 32, 'lr': 0.00040302397008821475}. Best is trial 3 with value: 0.5697368927924805.\n",
      "[I 2025-07-05 17:54:34,302] Trial 5 finished with value: 0.5106128895566084 and parameters: {'hidden_dim': 64, 'lr': 0.0005755534797575607}. Best is trial 3 with value: 0.5697368927924805.\n",
      "[I 2025-07-05 17:54:34,859] Trial 6 finished with value: 0.5340382911514311 and parameters: {'hidden_dim': 32, 'lr': 0.0033081841352918914}. Best is trial 3 with value: 0.5697368927924805.\n",
      "[I 2025-07-05 17:54:35,379] Trial 7 finished with value: 0.5666551099811241 and parameters: {'hidden_dim': 32, 'lr': 0.006535046993781765}. Best is trial 3 with value: 0.5697368927924805.\n",
      "[I 2025-07-05 17:54:36,024] Trial 8 finished with value: 0.5656593089102046 and parameters: {'hidden_dim': 128, 'lr': 0.0025188323659272333}. Best is trial 3 with value: 0.5697368927924805.\n",
      "[I 2025-07-05 17:54:36,608] Trial 9 finished with value: 0.5416734080665665 and parameters: {'hidden_dim': 128, 'lr': 0.001572081177490567}. Best is trial 3 with value: 0.5697368927924805.\n",
      "[I 2025-07-05 17:54:37,169] Trial 10 finished with value: 0.5814207018760353 and parameters: {'hidden_dim': 64, 'lr': 0.009327301867792449}. Best is trial 10 with value: 0.5814207018760353.\n",
      "[I 2025-07-05 17:54:37,712] Trial 11 finished with value: 0.5725605762933857 and parameters: {'hidden_dim': 64, 'lr': 0.007430265329773275}. Best is trial 10 with value: 0.5814207018760353.\n",
      "[I 2025-07-05 17:54:38,334] Trial 12 finished with value: 0.590895257906699 and parameters: {'hidden_dim': 64, 'lr': 0.0092448715055037}. Best is trial 12 with value: 0.590895257906699.\n",
      "[I 2025-07-05 17:54:38,887] Trial 13 finished with value: 0.5869910243075619 and parameters: {'hidden_dim': 64, 'lr': 0.009692526632387703}. Best is trial 12 with value: 0.590895257906699.\n",
      "[I 2025-07-05 17:54:39,452] Trial 14 finished with value: 0.567225239801225 and parameters: {'hidden_dim': 64, 'lr': 0.004757502862130241}. Best is trial 12 with value: 0.590895257906699.\n",
      "[I 2025-07-05 17:54:39,984] Trial 15 finished with value: 0.5242170345544899 and parameters: {'hidden_dim': 64, 'lr': 0.000721797961044594}. Best is trial 12 with value: 0.590895257906699.\n",
      "[I 2025-07-05 17:54:40,515] Trial 16 finished with value: 0.5663257444431604 and parameters: {'hidden_dim': 64, 'lr': 0.005011619804259324}. Best is trial 12 with value: 0.590895257906699.\n",
      "[I 2025-07-05 17:54:41,049] Trial 17 finished with value: 0.5952270888709118 and parameters: {'hidden_dim': 64, 'lr': 0.009842926980984207}. Best is trial 17 with value: 0.5952270888709118.\n",
      "[I 2025-07-05 17:54:41,601] Trial 18 finished with value: 0.4951134481297431 and parameters: {'hidden_dim': 64, 'lr': 0.00030053034267321464}. Best is trial 17 with value: 0.5952270888709118.\n",
      "[I 2025-07-05 17:54:42,145] Trial 19 finished with value: 0.5406178974536769 and parameters: {'hidden_dim': 64, 'lr': 0.00225281971228102}. Best is trial 17 with value: 0.5952270888709118.\n"
     ]
    },
    {
     "name": "stdout",
     "output_type": "stream",
     "text": [
      "\n",
      "Best parameters: {'hidden_dim': 64, 'lr': 0.009842926980984207}\n",
      "Best valid AUC: 0.5952270888709118\n"
     ]
    }
   ],
   "source": [
    "def objective(trial):\n",
    "    # hyparameters\n",
    "    hidden_dim = trial.suggest_categorical('hidden_dim', [32, 64, 128])\n",
    "    learning_rate = trial.suggest_float('lr', 1e-4, 1e-2, log=True)\n",
    "\n",
    "    trained_model = training_loop(hidden_dim, learning_rate, verbose=False)\n",
    "\n",
    "    # valid AUC (return to Optuna)\n",
    "    metrics, _, _, _, _, _ = evaluate(trained_model, dataloader)\n",
    "    return metrics['auc']\n",
    "\n",
    "study = optuna.create_study(direction='maximize')\n",
    "study.optimize(objective, n_trials=20, show_progress_bar=False, gc_after_trial=True)\n",
    "\n",
    "print(\"\\nBest parameters:\", study.best_params)\n",
    "print(\"Best valid AUC:\", study.best_value)"
   ]
  },
  {
   "cell_type": "markdown",
   "id": "461b3383",
   "metadata": {},
   "source": [
    "save to file"
   ]
  },
  {
   "cell_type": "code",
   "execution_count": 12,
   "id": "676dce5b",
   "metadata": {},
   "outputs": [],
   "source": [
    "trials_results = study.trials_dataframe().sort_values(by='value', ascending=False)\n",
    "trials_results.to_csv('optuna_trials.csv', index=False)"
   ]
  }
 ],
 "metadata": {
  "kernelspec": {
   "display_name": ".venv",
   "language": "python",
   "name": "python3"
  },
  "language_info": {
   "codemirror_mode": {
    "name": "ipython",
    "version": 3
   },
   "file_extension": ".py",
   "mimetype": "text/x-python",
   "name": "python",
   "nbconvert_exporter": "python",
   "pygments_lexer": "ipython3",
   "version": "3.11.12"
  }
 },
 "nbformat": 4,
 "nbformat_minor": 5
}
