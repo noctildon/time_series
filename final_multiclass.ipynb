{
 "cells": [
  {
   "cell_type": "code",
   "execution_count": null,
   "id": "934fcdeb",
   "metadata": {},
   "outputs": [],
   "source": [
    "import random\n",
    "from collections import Counter\n",
    "import seaborn as sns\n",
    "import matplotlib.pyplot as plt\n",
    "import pandas as pd\n",
    "\n",
    "from sklearn.metrics import confusion_matrix, ConfusionMatrixDisplay\n",
    "import torch\n",
    "import torch.nn as nn\n",
    "from torch.nn.utils.rnn import pad_sequence, pack_padded_sequence\n",
    "from torch.utils.data import Dataset, DataLoader, random_split"
   ]
  },
  {
   "cell_type": "code",
   "execution_count": null,
   "id": "6a3ce821",
   "metadata": {},
   "outputs": [
    {
     "name": "stdout",
     "output_type": "stream",
     "text": [
      "Using device: cpu\n"
     ]
    }
   ],
   "source": [
    "device = torch.device(\"cuda\" if torch.cuda.is_available() else \"cpu\")\n",
    "print(\"Using device:\", device)\n",
    "\n",
    "if device.type == \"cuda\":\n",
    "    torch.cuda.empty_cache()"
   ]
  },
  {
   "cell_type": "markdown",
   "id": "a1d587a3",
   "metadata": {},
   "source": [
    "# Data"
   ]
  },
  {
   "cell_type": "code",
   "execution_count": 3,
   "id": "8fa04547",
   "metadata": {},
   "outputs": [],
   "source": [
    "# --- 1. Dataset with static + dynamic features ---\n",
    "class VariableLengthSequenceDataset(Dataset):\n",
    "    def __init__(self, num_samples=300, max_len=15, min_len=5,\n",
    "                 dynamic_feat_dim=3, static_feat_dim=2, num_classes=4):\n",
    "        self.samples = []\n",
    "        for _ in range(num_samples):\n",
    "            seq_len = random.randint(min_len, max_len)\n",
    "            dynamic = torch.randn(seq_len, dynamic_feat_dim)\n",
    "            static = torch.randn(static_feat_dim)\n",
    "            label = random.choices(range(num_classes), weights=[0.6, 0.2, 0.15, 0.05])[0]  # imbalance\n",
    "            self.samples.append((dynamic, static, label))\n",
    "\n",
    "    def __len__(self):\n",
    "        return len(self.samples)\n",
    "\n",
    "    def __getitem__(self, idx):\n",
    "        return self.samples[idx]\n",
    "\n",
    "# --- 2. Collate function ---\n",
    "def collate_batch(batch):\n",
    "    dyn_seqs, stat_feats, labels = zip(*batch)\n",
    "    lengths = torch.tensor([len(seq) for seq in dyn_seqs])\n",
    "    padded_dyn = pad_sequence(dyn_seqs, batch_first=True)\n",
    "    static_feats = torch.stack(stat_feats)\n",
    "    labels = torch.tensor(labels)\n",
    "    return padded_dyn, static_feats, lengths, labels\n",
    "\n",
    "# --- 3. Model with LSTM + static ---\n",
    "class LSTMWithStaticClassifier(nn.Module):\n",
    "    def __init__(self, dynamic_feat_dim, static_feat_dim, hidden_size, num_classes):\n",
    "        super().__init__()\n",
    "        self.lstm = nn.LSTM(dynamic_feat_dim, hidden_size, batch_first=True)\n",
    "        self.classifier = nn.Linear(hidden_size + static_feat_dim, num_classes)\n",
    "\n",
    "    def forward(self, x_dyn, x_static, lengths):\n",
    "        packed_input = pack_padded_sequence(x_dyn, lengths.cpu(), batch_first=True, enforce_sorted=False)\n",
    "        _, (h_n, _) = self.lstm(packed_input)\n",
    "        last_hidden = h_n[-1]  # final hidden for each sequence\n",
    "        combined = torch.cat([last_hidden, x_static], dim=1)\n",
    "        return self.classifier(combined)"
   ]
  },
  {
   "cell_type": "code",
   "execution_count": 4,
   "id": "7cea7c85",
   "metadata": {},
   "outputs": [],
   "source": [
    "# --- 4. Data prep ---\n",
    "dynamic_feat_dim = 3 # fixed by data\n",
    "static_feat_dim = 2  # fixed by data\n",
    "hidden_size = 64     # hyperparameter\n",
    "num_classes = 4      # fixed by data\n",
    "batch_size = 16\n",
    "epochs = 10          # hyperparameter\n",
    "\n",
    "dataset = VariableLengthSequenceDataset(dynamic_feat_dim=dynamic_feat_dim, static_feat_dim=static_feat_dim, num_classes=num_classes)\n",
    "\n",
    "train_size = int(0.8 * len(dataset))\n",
    "test_size = len(dataset) - train_size\n",
    "train_ds, test_ds = random_split(dataset, [train_size, test_size])\n",
    "\n",
    "train_loader = DataLoader(train_ds, batch_size=batch_size, shuffle=True, collate_fn=collate_batch)\n",
    "test_loader = DataLoader(test_ds, batch_size=batch_size, shuffle=False, collate_fn=collate_batch)"
   ]
  },
  {
   "cell_type": "markdown",
   "id": "8bbb5634",
   "metadata": {},
   "source": [
    "# Model"
   ]
  },
  {
   "cell_type": "code",
   "execution_count": null,
   "id": "b4daf287",
   "metadata": {},
   "outputs": [],
   "source": [
    "# --- 5. Compute class weights ---\n",
    "all_train_labels = [label for _, _, label in train_ds]\n",
    "label_counts = Counter(all_train_labels)\n",
    "total = sum(label_counts.values())\n",
    "class_weights = torch.tensor([total / label_counts[i] for i in range(num_classes)], dtype=torch.float).to(device)\n",
    "\n",
    "# --- 6. Model and loss ---\n",
    "model = LSTMWithStaticClassifier(dynamic_feat_dim, static_feat_dim, hidden_size, num_classes)\n",
    "model.to(device)\n",
    "criterion = nn.CrossEntropyLoss(weight=class_weights)\n",
    "optimizer = torch.optim.Adam(model.parameters(), lr=0.001)\n",
    "\n",
    "# --- 7. Evaluation helper ---\n",
    "def evaluate(model, dataloader):\n",
    "    model.eval()\n",
    "    correct, total = 0, 0\n",
    "    all_preds, all_labels = [], []\n",
    "    with torch.no_grad():\n",
    "        for x_dyn, x_static, lengths, y in dataloader:\n",
    "            x_dyn = x_dyn.to(device)\n",
    "            x_static = x_static.to(device)\n",
    "            lengths = lengths.to(device)\n",
    "            y = y.to(device)\n",
    "\n",
    "            logits = model(x_dyn, x_static, lengths)\n",
    "            pred = logits.argmax(dim=1)\n",
    "            all_preds.extend(pred.tolist())\n",
    "            all_labels.extend(y.tolist())\n",
    "            correct += (pred == y).sum().item()\n",
    "            total += len(y)\n",
    "    return correct / total, all_preds, all_labels"
   ]
  },
  {
   "cell_type": "markdown",
   "id": "7ab2ec54",
   "metadata": {},
   "source": [
    "# Training"
   ]
  },
  {
   "cell_type": "code",
   "execution_count": 6,
   "id": "0eb290ef",
   "metadata": {},
   "outputs": [
    {
     "name": "stdout",
     "output_type": "stream",
     "text": [
      "Epoch 1, Loss: 1.3880, Train Acc: 0.2042, Test Acc: 0.2333\n",
      "Epoch 2, Loss: 1.3771, Train Acc: 0.2250, Test Acc: 0.2500\n",
      "Epoch 3, Loss: 1.3682, Train Acc: 0.2583, Test Acc: 0.2500\n",
      "Epoch 4, Loss: 1.3663, Train Acc: 0.2750, Test Acc: 0.2333\n",
      "Epoch 5, Loss: 1.3535, Train Acc: 0.3458, Test Acc: 0.2333\n",
      "Epoch 6, Loss: 1.3496, Train Acc: 0.4375, Test Acc: 0.3333\n",
      "Epoch 7, Loss: 1.3513, Train Acc: 0.4042, Test Acc: 0.3500\n",
      "Epoch 8, Loss: 1.3292, Train Acc: 0.4250, Test Acc: 0.3333\n",
      "Epoch 9, Loss: 1.3323, Train Acc: 0.5250, Test Acc: 0.4167\n",
      "Epoch 10, Loss: 1.3311, Train Acc: 0.4583, Test Acc: 0.3333\n"
     ]
    }
   ],
   "source": [
    "# --- 8. Training loop ---\n",
    "for epoch in range(epochs):\n",
    "    model.train()\n",
    "    total_loss = 0\n",
    "    for x_dyn, x_static, lengths, y in train_loader:\n",
    "        x_dyn = x_dyn.to(device)\n",
    "        x_static = x_static.to(device)\n",
    "        lengths = lengths.to(device)\n",
    "        y = y.to(device)\n",
    "\n",
    "        logits = model(x_dyn, x_static, lengths)\n",
    "        loss = criterion(logits, y)\n",
    "\n",
    "        optimizer.zero_grad()\n",
    "        loss.backward()\n",
    "        optimizer.step()\n",
    "\n",
    "        total_loss += loss.item() * len(y)\n",
    "\n",
    "    train_acc, _, _ = evaluate(model, train_loader)\n",
    "    test_acc, test_preds, test_labels = evaluate(model, test_loader)\n",
    "    print(f\"Epoch {epoch+1}, Loss: {total_loss / train_size:.4f}, Train Acc: {train_acc:.4f}, Test Acc: {test_acc:.4f}\")"
   ]
  },
  {
   "cell_type": "markdown",
   "id": "00144499",
   "metadata": {},
   "source": [
    "# Evaluation"
   ]
  },
  {
   "cell_type": "code",
   "execution_count": 7,
   "id": "172e2f19",
   "metadata": {},
   "outputs": [
    {
     "data": {
      "image/png": "[encoded data removed]",
      "text/plain": [
       "<Figure size 640x480 with 2 Axes>"
      ]
     },
     "metadata": {},
     "output_type": "display_data"
    }
   ],
   "source": [
    "# --- 9. Confusion matrix ---\n",
    "cm = confusion_matrix(test_labels, test_preds)\n",
    "disp = ConfusionMatrixDisplay(cm, display_labels=[f\"Class {i}\" for i in range(num_classes)])\n",
    "disp.plot(cmap=\"Blues\", values_format=\"d\")\n",
    "plt.title(\"Confusion Matrix on Test Set\")\n",
    "plt.show()"
   ]
  },
  {
   "cell_type": "markdown",
   "id": "c006ae55",
   "metadata": {},
   "source": [
    "# Hyperarameter tuning\n",
    "## Optuna"
   ]
  },
  {
   "cell_type": "code",
   "execution_count": 8,
   "id": "e1e9ec0b",
   "metadata": {},
   "outputs": [
    {
     "name": "stderr",
     "output_type": "stream",
     "text": [
      "/home/wei-chih/Downloads/temp/.venv/lib/python3.11/site-packages/tqdm/auto.py:21: TqdmWarning: IProgress not found. Please update jupyter and ipywidgets. See https://ipywidgets.readthedocs.io/en/stable/user_install.html\n",
      "  from .autonotebook import tqdm as notebook_tqdm\n"
     ]
    }
   ],
   "source": [
    "import optuna"
   ]
  },
  {
   "cell_type": "code",
   "execution_count": 12,
   "id": "913fdb3e",
   "metadata": {},
   "outputs": [
    {
     "name": "stderr",
     "output_type": "stream",
     "text": [
      "[I 2025-07-04 19:45:21,955] A new study created in memory with name: no-name-35918fbc-bf29-4bda-8169-96f29c1fe4de\n",
      "[I 2025-07-04 19:45:22,509] Trial 0 finished with value: 0.31666666666666665 and parameters: {'hidden_size': 64, 'lr': 0.0057375131842667204}. Best is trial 0 with value: 0.31666666666666665.\n",
      "[I 2025-07-04 19:45:23,027] Trial 1 finished with value: 0.2 and parameters: {'hidden_size': 32, 'lr': 0.00016355040086167566}. Best is trial 0 with value: 0.31666666666666665.\n",
      "[I 2025-07-04 19:45:23,674] Trial 2 finished with value: 0.5333333333333333 and parameters: {'hidden_size': 128, 'lr': 0.0018699524265655696}. Best is trial 2 with value: 0.5333333333333333.\n",
      "[I 2025-07-04 19:45:24,337] Trial 3 finished with value: 0.36666666666666664 and parameters: {'hidden_size': 64, 'lr': 0.007345223419295273}. Best is trial 2 with value: 0.5333333333333333.\n",
      "[I 2025-07-04 19:45:24,851] Trial 4 finished with value: 0.35 and parameters: {'hidden_size': 32, 'lr': 0.0019351422361663527}. Best is trial 2 with value: 0.5333333333333333.\n",
      "[I 2025-07-04 19:45:25,474] Trial 5 finished with value: 0.26666666666666666 and parameters: {'hidden_size': 128, 'lr': 0.0034679510630522574}. Best is trial 2 with value: 0.5333333333333333.\n",
      "[I 2025-07-04 19:45:26,121] Trial 6 finished with value: 0.43333333333333335 and parameters: {'hidden_size': 128, 'lr': 0.0008978499836382037}. Best is trial 2 with value: 0.5333333333333333.\n",
      "[I 2025-07-04 19:45:26,773] Trial 7 finished with value: 0.45 and parameters: {'hidden_size': 128, 'lr': 0.0005809383192001636}. Best is trial 2 with value: 0.5333333333333333.\n",
      "[I 2025-07-04 19:45:27,438] Trial 8 finished with value: 0.5 and parameters: {'hidden_size': 128, 'lr': 0.0008281037946650964}. Best is trial 2 with value: 0.5333333333333333.\n",
      "[I 2025-07-04 19:45:27,932] Trial 9 finished with value: 0.18333333333333332 and parameters: {'hidden_size': 32, 'lr': 0.00013720485050099272}. Best is trial 2 with value: 0.5333333333333333.\n",
      "[I 2025-07-04 19:45:28,612] Trial 10 finished with value: 0.3333333333333333 and parameters: {'hidden_size': 128, 'lr': 0.0003687064269959076}. Best is trial 2 with value: 0.5333333333333333.\n",
      "[I 2025-07-04 19:45:29,300] Trial 11 finished with value: 0.25 and parameters: {'hidden_size': 128, 'lr': 0.0018017222489147967}. Best is trial 2 with value: 0.5333333333333333.\n",
      "[I 2025-07-04 19:45:29,963] Trial 12 finished with value: 0.31666666666666665 and parameters: {'hidden_size': 128, 'lr': 0.0016920145621635097}. Best is trial 2 with value: 0.5333333333333333.\n",
      "[I 2025-07-04 19:45:30,631] Trial 13 finished with value: 0.45 and parameters: {'hidden_size': 128, 'lr': 0.00038876670900937825}. Best is trial 2 with value: 0.5333333333333333.\n",
      "[I 2025-07-04 19:45:31,288] Trial 14 finished with value: 0.45 and parameters: {'hidden_size': 128, 'lr': 0.0008655660337715269}. Best is trial 2 with value: 0.5333333333333333.\n",
      "[I 2025-07-04 19:45:31,898] Trial 15 finished with value: 0.31666666666666665 and parameters: {'hidden_size': 64, 'lr': 0.0035443688185812154}. Best is trial 2 with value: 0.5333333333333333.\n",
      "[I 2025-07-04 19:45:32,583] Trial 16 finished with value: 0.31666666666666665 and parameters: {'hidden_size': 128, 'lr': 0.0002501159727340763}. Best is trial 2 with value: 0.5333333333333333.\n",
      "[I 2025-07-04 19:45:33,251] Trial 17 finished with value: 0.38333333333333336 and parameters: {'hidden_size': 128, 'lr': 0.0030621017220105865}. Best is trial 2 with value: 0.5333333333333333.\n",
      "[I 2025-07-04 19:45:33,858] Trial 18 finished with value: 0.4166666666666667 and parameters: {'hidden_size': 64, 'lr': 0.0012314820148067672}. Best is trial 2 with value: 0.5333333333333333.\n",
      "[I 2025-07-04 19:45:34,373] Trial 19 finished with value: 0.18333333333333332 and parameters: {'hidden_size': 32, 'lr': 0.0005856858414038137}. Best is trial 2 with value: 0.5333333333333333.\n"
     ]
    },
    {
     "name": "stdout",
     "output_type": "stream",
     "text": [
      "\n",
      "Best parameters: {'hidden_size': 128, 'lr': 0.0018699524265655696}\n",
      "Best validation accuracy: 0.5333333333333333\n"
     ]
    }
   ],
   "source": [
    "def objective(trial):\n",
    "    # hyparameters\n",
    "    hidden_size = trial.suggest_categorical('hidden_size', [32, 64, 128])\n",
    "    learning_rate = trial.suggest_float('lr', 1e-4, 1e-2, log=True)\n",
    "    # num_layers = trial.suggest_int('num_layers', 1, 2)\n",
    "\n",
    "    model = LSTMWithStaticClassifier(\n",
    "        dynamic_feat_dim=3,\n",
    "        static_feat_dim=2,\n",
    "        hidden_size=hidden_size,\n",
    "        num_classes=4\n",
    "    )\n",
    "    model.to(device)\n",
    "\n",
    "    optimizer = torch.optim.Adam(model.parameters(), lr=learning_rate)\n",
    "    criterion = nn.CrossEntropyLoss(weight=class_weights)\n",
    "\n",
    "    # TODO: change epochs\n",
    "    for epoch in range(5):\n",
    "        model.train()\n",
    "        for x_dyn, x_static, lengths, y in train_loader:\n",
    "            x_dyn = x_dyn.to(device)\n",
    "            x_static = x_static.to(device)\n",
    "            lengths = lengths.to(device)\n",
    "            y = y.to(device)\n",
    "\n",
    "            logits = model(x_dyn, x_static, lengths)\n",
    "            loss = criterion(logits, y)\n",
    "            optimizer.zero_grad()\n",
    "            loss.backward()\n",
    "            optimizer.step()\n",
    "\n",
    "    # --- Validation Accuracy (return to Optuna) ---\n",
    "    val_acc, _, _ = evaluate(model, test_loader)\n",
    "    return val_acc\n",
    "\n",
    "# --- Run the study ---\n",
    "study = optuna.create_study(direction='maximize')\n",
    "study.optimize(objective, n_trials=20, show_progress_bar=False, gc_after_trial=True)\n",
    "\n",
    "# --- Best results ---\n",
    "print(\"\\nBest parameters:\", study.best_params)\n",
    "print(\"Best validation accuracy:\", study.best_value)"
   ]
  },
  {
   "cell_type": "markdown",
   "id": "962bee00",
   "metadata": {},
   "source": [
    "save to file"
   ]
  },
  {
   "cell_type": "code",
   "execution_count": 10,
   "id": "f3c827ac",
   "metadata": {},
   "outputs": [],
   "source": [
    "trials_results = study.trials_dataframe().sort_values(by='value', ascending=False)\n",
    "trials_results.to_csv('optuna_trials.csv', index=False)"
   ]
  },
  {
   "cell_type": "code",
   "execution_count": null,
   "id": "4a62ac6d",
   "metadata": {},
   "outputs": [],
   "source": []
  }
 ],
 "metadata": {
  "kernelspec": {
   "display_name": ".venv",
   "language": "python",
   "name": "python3"
  },
  "language_info": {
   "codemirror_mode": {
    "name": "ipython",
    "version": 3
   },
   "file_extension": ".py",
   "mimetype": "text/x-python",
   "name": "python",
   "nbconvert_exporter": "python",
   "pygments_lexer": "ipython3",
   "version": "3.11.12"
  }
 },
 "nbformat": 4,
 "nbformat_minor": 5
}
